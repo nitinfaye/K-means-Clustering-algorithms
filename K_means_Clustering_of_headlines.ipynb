{
  "nbformat": 4,
  "nbformat_minor": 0,
  "metadata": {
    "language_info": {
      "name": "python",
      "version": "3.6.4",
      "mimetype": "text/x-python",
      "codemirror_mode": {
        "name": "ipython",
        "version": 3
      },
      "pygments_lexer": "ipython3",
      "nbconvert_exporter": "python",
      "file_extension": ".py"
    },
    "kernelspec": {
      "display_name": "Python 3",
      "language": "python",
      "name": "python3"
    },
    "colab": {
      "provenance": [],
      "include_colab_link": true
    }
  },
  "cells": [
    {
      "cell_type": "markdown",
      "metadata": {
        "id": "view-in-github",
        "colab_type": "text"
      },
      "source": [
        "<a href=\"https://colab.research.google.com/github/nitinfaye/K-means-Clustering-algorithms/blob/main/K_means_Clustering_of_headlines.ipynb\" target=\"_parent\"><img src=\"https://colab.research.google.com/assets/colab-badge.svg\" alt=\"Open In Colab\"/></a>"
      ]
    },
    {
      "cell_type": "code",
      "metadata": {
        "_uuid": "8f2839f25d086af736a60e9eeb907d3b93b6e0e5",
        "_cell_guid": "b1076dfc-b9ad-4769-8c92-a6c4dae69d19",
        "trusted": false,
        "id": "SxFOjNh5OVqT",
        "colab": {
          "base_uri": "https://localhost:8080/",
          "height": 71
        },
        "outputId": "05a99e77-124a-4f5a-8839-ecb5d32b4c9f"
      },
      "source": [
        "import numpy as np \n",
        "import pandas as pd \n",
        "import matplotlib.pyplot as plt\n",
        "import seaborn as sns\n",
        "from sklearn.feature_extraction import text\n",
        "from sklearn.feature_extraction.text import TfidfVectorizer\n",
        "from sklearn.cluster import KMeans\n",
        "from nltk.tokenize import RegexpTokenizer\n",
        "from nltk.stem.snowball import SnowballStemmer\n",
        "from sklearn.preprocessing import StandardScaler  # For scaling dataset\n",
        "from sklearn.cluster import KMeans, AgglomerativeClustering, AffinityPropagation #For clustering\n",
        "from sklearn.mixture import GaussianMixture #For GMM clustering\n",
        "from scipy.sparse import csr_matrix, lil_matrix\n",
        "import warnings\n",
        "%matplotlib inline\n",
        "\n"
      ],
      "execution_count": null,
      "outputs": [
        {
          "output_type": "stream",
          "text": [
            "/usr/local/lib/python3.6/dist-packages/statsmodels/tools/_testing.py:19: FutureWarning: pandas.util.testing is deprecated. Use the functions in the public API at pandas.testing instead.\n",
            "  import pandas.util.testing as tm\n"
          ],
          "name": "stderr"
        }
      ]
    },
    {
      "cell_type": "code",
      "metadata": {
        "_uuid": "d629ff2d2480ee46fbb7e2d37f6b5fab8052498a",
        "scrolled": true,
        "_cell_guid": "79c7e3d0-c299-4dcb-8224-4455121ee9b0",
        "trusted": false,
        "id": "_xY9TZofOVqb",
        "colab": {
          "base_uri": "https://localhost:8080/",
          "height": 204
        },
        "outputId": "6a4c688b-6333-47a5-d161-0e4b5dfcb5e4"
      },
      "source": [
        "data = pd.read_csv(\"/content/abcnews-date-text_copy.csv\",error_bad_lines=False,usecols =[\"headline_text\"])\n",
        "data.head()"
      ],
      "execution_count": null,
      "outputs": [
        {
          "output_type": "execute_result",
          "data": {
            "text/html": [
              "<div>\n",
              "<style scoped>\n",
              "    .dataframe tbody tr th:only-of-type {\n",
              "        vertical-align: middle;\n",
              "    }\n",
              "\n",
              "    .dataframe tbody tr th {\n",
              "        vertical-align: top;\n",
              "    }\n",
              "\n",
              "    .dataframe thead th {\n",
              "        text-align: right;\n",
              "    }\n",
              "</style>\n",
              "<table border=\"1\" class=\"dataframe\">\n",
              "  <thead>\n",
              "    <tr style=\"text-align: right;\">\n",
              "      <th></th>\n",
              "      <th>headline_text</th>\n",
              "    </tr>\n",
              "  </thead>\n",
              "  <tbody>\n",
              "    <tr>\n",
              "      <th>0</th>\n",
              "      <td>aba decides against community broadcasting lic...</td>\n",
              "    </tr>\n",
              "    <tr>\n",
              "      <th>1</th>\n",
              "      <td>act fire witnesses must be aware of defamation</td>\n",
              "    </tr>\n",
              "    <tr>\n",
              "      <th>2</th>\n",
              "      <td>a g calls for infrastructure protection summit</td>\n",
              "    </tr>\n",
              "    <tr>\n",
              "      <th>3</th>\n",
              "      <td>air nz staff in aust strike for pay rise</td>\n",
              "    </tr>\n",
              "    <tr>\n",
              "      <th>4</th>\n",
              "      <td>air nz strike to affect australian travellers</td>\n",
              "    </tr>\n",
              "  </tbody>\n",
              "</table>\n",
              "</div>"
            ],
            "text/plain": [
              "                                       headline_text\n",
              "0  aba decides against community broadcasting lic...\n",
              "1     act fire witnesses must be aware of defamation\n",
              "2     a g calls for infrastructure protection summit\n",
              "3           air nz staff in aust strike for pay rise\n",
              "4      air nz strike to affect australian travellers"
            ]
          },
          "metadata": {
            "tags": []
          },
          "execution_count": 2
        }
      ]
    },
    {
      "cell_type": "code",
      "metadata": {
        "_uuid": "a498ee778ab763e0801b8f9cf14e1d4d01f38846",
        "_cell_guid": "3e44d856-a323-45ac-b7cc-80d77385060f",
        "trusted": false,
        "id": "sZtNlSngOVqh",
        "colab": {
          "base_uri": "https://localhost:8080/",
          "height": 153
        },
        "outputId": "c6535fb6-e025-4b74-c253-81f700a19202"
      },
      "source": [
        "data.info()"
      ],
      "execution_count": null,
      "outputs": [
        {
          "output_type": "stream",
          "text": [
            "<class 'pandas.core.frame.DataFrame'>\n",
            "RangeIndex: 249 entries, 0 to 248\n",
            "Data columns (total 1 columns):\n",
            " #   Column         Non-Null Count  Dtype \n",
            "---  ------         --------------  ----- \n",
            " 0   headline_text  249 non-null    object\n",
            "dtypes: object(1)\n",
            "memory usage: 2.1+ KB\n"
          ],
          "name": "stdout"
        }
      ]
    },
    {
      "cell_type": "markdown",
      "metadata": {
        "_uuid": "eb590852f097f66ea53be9a970789430fc3f6a63",
        "_cell_guid": "ff887c6d-0470-4f62-860b-9457b223bb8c",
        "id": "sOs80HGzOVqq"
      },
      "source": [
        "# Deleting dupliate headlines(if any)"
      ]
    },
    {
      "cell_type": "code",
      "metadata": {
        "_uuid": "1e0143660cbb59acf14ed07c847fd9bc3ca85045",
        "_cell_guid": "42392880-315c-41bf-98e8-a1cbfab72f6e",
        "trusted": false,
        "id": "5RdwId8LOVqr",
        "colab": {
          "base_uri": "https://localhost:8080/",
          "height": 49
        },
        "outputId": "071c9cf3-10da-46ac-b8a6-1d4b79a02a35"
      },
      "source": [
        "data[data['headline_text'].duplicated(keep=False)].sort_values('headline_text').head(8)"
      ],
      "execution_count": null,
      "outputs": [
        {
          "output_type": "execute_result",
          "data": {
            "text/html": [
              "<div>\n",
              "<style scoped>\n",
              "    .dataframe tbody tr th:only-of-type {\n",
              "        vertical-align: middle;\n",
              "    }\n",
              "\n",
              "    .dataframe tbody tr th {\n",
              "        vertical-align: top;\n",
              "    }\n",
              "\n",
              "    .dataframe thead th {\n",
              "        text-align: right;\n",
              "    }\n",
              "</style>\n",
              "<table border=\"1\" class=\"dataframe\">\n",
              "  <thead>\n",
              "    <tr style=\"text-align: right;\">\n",
              "      <th></th>\n",
              "      <th>headline_text</th>\n",
              "    </tr>\n",
              "  </thead>\n",
              "  <tbody>\n",
              "  </tbody>\n",
              "</table>\n",
              "</div>"
            ],
            "text/plain": [
              "Empty DataFrame\n",
              "Columns: [headline_text]\n",
              "Index: []"
            ]
          },
          "metadata": {
            "tags": []
          },
          "execution_count": 4
        }
      ]
    },
    {
      "cell_type": "code",
      "metadata": {
        "_uuid": "4e5e82d7c6fb0e7b14f8b5772bea14e448f88fcc",
        "_cell_guid": "9f5ff611-397e-45b7-9616-7bc33f6e81bb",
        "trusted": false,
        "id": "nE3v3TiEOVqx",
        "colab": {
          "base_uri": "https://localhost:8080/",
          "height": 204
        },
        "outputId": "d7b42cae-5f4f-4d88-95cf-ec30b2387b86"
      },
      "source": [
        "data = data.drop_duplicates('headline_text')\n",
        "data.head()\n"
      ],
      "execution_count": null,
      "outputs": [
        {
          "output_type": "execute_result",
          "data": {
            "text/html": [
              "<div>\n",
              "<style scoped>\n",
              "    .dataframe tbody tr th:only-of-type {\n",
              "        vertical-align: middle;\n",
              "    }\n",
              "\n",
              "    .dataframe tbody tr th {\n",
              "        vertical-align: top;\n",
              "    }\n",
              "\n",
              "    .dataframe thead th {\n",
              "        text-align: right;\n",
              "    }\n",
              "</style>\n",
              "<table border=\"1\" class=\"dataframe\">\n",
              "  <thead>\n",
              "    <tr style=\"text-align: right;\">\n",
              "      <th></th>\n",
              "      <th>headline_text</th>\n",
              "    </tr>\n",
              "  </thead>\n",
              "  <tbody>\n",
              "    <tr>\n",
              "      <th>0</th>\n",
              "      <td>aba decides against community broadcasting lic...</td>\n",
              "    </tr>\n",
              "    <tr>\n",
              "      <th>1</th>\n",
              "      <td>act fire witnesses must be aware of defamation</td>\n",
              "    </tr>\n",
              "    <tr>\n",
              "      <th>2</th>\n",
              "      <td>a g calls for infrastructure protection summit</td>\n",
              "    </tr>\n",
              "    <tr>\n",
              "      <th>3</th>\n",
              "      <td>air nz staff in aust strike for pay rise</td>\n",
              "    </tr>\n",
              "    <tr>\n",
              "      <th>4</th>\n",
              "      <td>air nz strike to affect australian travellers</td>\n",
              "    </tr>\n",
              "  </tbody>\n",
              "</table>\n",
              "</div>"
            ],
            "text/plain": [
              "                                       headline_text\n",
              "0  aba decides against community broadcasting lic...\n",
              "1     act fire witnesses must be aware of defamation\n",
              "2     a g calls for infrastructure protection summit\n",
              "3           air nz staff in aust strike for pay rise\n",
              "4      air nz strike to affect australian travellers"
            ]
          },
          "metadata": {
            "tags": []
          },
          "execution_count": 5
        }
      ]
    },
    {
      "cell_type": "markdown",
      "metadata": {
        "_uuid": "f022fdf6441499ed52b34c063240f4f28b2ff3a5",
        "_cell_guid": "f1bb8d35-27aa-4ff4-9a39-4329517aa6a4",
        "id": "aCQwyK9OOVq3"
      },
      "source": [
        "# NLP "
      ]
    },
    {
      "cell_type": "markdown",
      "metadata": {
        "_uuid": "d2f1e1b88fb7b29fd47c249be3af044ef1e2a246",
        "_cell_guid": "7ecba7c7-84d0-426b-aa9c-9ca05d45da75",
        "id": "wjy0HEgKOVq4"
      },
      "source": [
        "# Preparing data for vectorizaion\n",
        "\n",
        "\n",
        "# TF-IDF\n"
      ]
    },
    {
      "cell_type": "code",
      "metadata": {
        "_uuid": "9c1c23ecabae8217a9aa8f90371f2a30053cc6f1",
        "_cell_guid": "c7e595ab-440c-4ad7-98e4-4358cc724d8c",
        "trusted": false,
        "id": "7VVJOP0JOVq5"
      },
      "source": [
        "punc = ['.', ',', '\"', \"'\", '?', '!', ':', ';', '(', ')', '[', ']', '{', '}',\"%\"]\n",
        "stop_words = text.ENGLISH_STOP_WORDS.union(punc)\n",
        "news = data['headline_text'].values\n",
        "vectorizer = TfidfVectorizer(stop_words = stop_words)\n",
        "X = vectorizer.fit_transform(news)"
      ],
      "execution_count": null,
      "outputs": []
    },
    {
      "cell_type": "code",
      "metadata": {
        "_uuid": "10af64e15e2f08c30da71b847432eedc2aece199",
        "_cell_guid": "eb56971e-5412-4138-a4cd-0e14844796be",
        "trusted": false,
        "id": "k3Sgye5jOVq_",
        "colab": {
          "base_uri": "https://localhost:8080/",
          "height": 105
        },
        "outputId": "b39d3ed5-03b0-446a-c1b2-60c397d3b632"
      },
      "source": [
        "word_features = vectorizer.get_feature_names()\n",
        "print(\"Number of words=\",len(word_features))\n",
        "print(\"\\n\")\n",
        "print(\"most common words=\",word_features[50:110])"
      ],
      "execution_count": null,
      "outputs": [
        {
          "output_type": "stream",
          "text": [
            "Number of words= 935\n",
            "\n",
            "\n",
            "most common words= ['ambos', 'ambulance', 'amcor', 'americas', 'anger', 'angry', 'ankle', 'anniversary', 'announced', 'anti', 'antic', 'appointed', 'arabia', 'arabians', 'arabs', 'areas', 'arms', 'army', 'arrested', 'arriving', 'arrogance', 'arsenal', 'art', 'asian', 'ask', 'assurances', 'asylum', 'attack', 'attacks', 'attempt', 'attend', 'aussie', 'aust', 'austeel', 'australia', 'australian', 'authorities', 'autopsy', 'avenges', 'avoid', 'awards', 'aware', 'away', 'awu', 'ayr', 'baby', 'backs', 'bad', 'badly', 'ban', 'bank', 'bans', 'barca', 'basel', 'bathhouse', 'bay', 'beckham', 'begin', 'begins', 'belittling']\n"
          ],
          "name": "stdout"
        }
      ]
    },
    {
      "cell_type": "markdown",
      "metadata": {
        "_uuid": "e480f5b88938660f05c09f75af5f9f58d7110096",
        "_cell_guid": "871b1bd6-c411-4ff6-a784-9b376a0db4e6",
        "id": "w8ZlHfQkOVrF"
      },
      "source": [
        "# Stemming\n",
        "\n",
        "# Tokenizing\n",
        "Tokenization is breaking the sentence into words and punctuation,"
      ]
    },
    {
      "cell_type": "code",
      "metadata": {
        "_uuid": "5d25104db183624b990a1d64e10cc618fd8ee715",
        "_cell_guid": "536a1a88-48a3-43d0-b368-ccf31947e5b1",
        "trusted": false,
        "id": "7OAH8NGaOVrG"
      },
      "source": [
        "stemmer = SnowballStemmer('english')\n",
        "tokenizer = RegexpTokenizer(r'[a-zA-Z\\']+')\n",
        "\n",
        "def tokenize(text):\n",
        "    return [stemmer.stem(word) for word in tokenizer.tokenize(text.lower())]"
      ],
      "execution_count": null,
      "outputs": []
    },
    {
      "cell_type": "markdown",
      "metadata": {
        "_uuid": "d190c4d6b9cb52ad70a021e3475704538b47f85f",
        "_cell_guid": "9877cf33-ebe8-46e4-b26e-c6f673617517",
        "id": "FtXpzbenOVrM"
      },
      "source": [
        "# Vectorization with stop words(words irrelevant to the model), stemming and tokenizing"
      ]
    },
    {
      "cell_type": "code",
      "metadata": {
        "_uuid": "5fcc93fa3093f30d181ffa38b4ca46b133316952",
        "scrolled": false,
        "_cell_guid": "18e1d30c-5515-4c0d-89e4-6af99658bee3",
        "trusted": false,
        "id": "jTBRy739OVrN",
        "colab": {
          "base_uri": "https://localhost:8080/",
          "height": 139
        },
        "outputId": "f30892dc-b467-468e-bc72-0807e88c8b8e"
      },
      "source": [
        "vectorizer2 = TfidfVectorizer(stop_words = stop_words, tokenizer = tokenize)\n",
        "X2 = vectorizer2.fit_transform(news)\n",
        "word_features2 = vectorizer2.get_feature_names()\n",
        "print(\"Number of words=\",len(word_features2))\n",
        "print(\"\\n\")\n",
        "print(\"most common words\",word_features2[:50]) "
      ],
      "execution_count": null,
      "outputs": [
        {
          "output_type": "stream",
          "text": [
            "Number of words= 829\n",
            "\n",
            "\n",
            "most common words ['ab', 'aba', 'abandon', 'abattoir', 'aborigin', 'abov', 'academ', 'access', 'accident', 'accus', 'acid', 'act', 'action', 'address', 'administr', 'advertis', 'aec', 'affect', 'afl', 'agreement', 'ahead', 'aid', 'air', 'aircraft', 'ajax', 'al', 'alcohol', 'alinghi', 'alleg', 'alloc', 'alp', 'altern', 'ambiti', 'ambo', 'ambul', 'amcor', 'america', 'anger', 'angri', 'ankl', 'anniversari', 'announc', 'anti', 'antic', 'appoint', 'arab', 'arabia', 'arabian', 'area', 'arm']\n"
          ],
          "name": "stdout"
        },
        {
          "output_type": "stream",
          "text": [
            "/usr/local/lib/python3.6/dist-packages/sklearn/feature_extraction/text.py:385: UserWarning: Your stop_words may be inconsistent with your preprocessing. Tokenizing the stop words generated tokens ['abov', 'afterward', 'alon', 'alreadi', 'alway', 'ani', 'anoth', 'anyon', 'anyth', 'anywher', 'becam', 'becaus', 'becom', 'befor', 'besid', 'cri', 'describ', 'dure', 'els', 'elsewher', 'empti', 'everi', 'everyon', 'everyth', 'everywher', 'fifti', 'forti', 'henc', 'hereaft', 'herebi', 'howev', 'hundr', 'inde', 'mani', 'meanwhil', 'moreov', 'nobodi', 'noon', 'noth', 'nowher', 'onc', 'onli', 'otherwis', 'ourselv', 'perhap', 'pleas', 'sever', 'sinc', 'sincer', 'sixti', 'someon', 'someth', 'sometim', 'somewher', 'themselv', 'thenc', 'thereaft', 'therebi', 'therefor', 'togeth', 'twelv', 'twenti', 'veri', 'whatev', 'whenc', 'whenev', 'wherea', 'whereaft', 'wherebi', 'wherev', 'whi', 'yourselv'] not in stop_words.\n",
            "  'stop_words.' % sorted(inconsistent))\n"
          ],
          "name": "stderr"
        }
      ]
    },
    {
      "cell_type": "code",
      "metadata": {
        "_uuid": "244a3015e5b4f4f84c174586fa875f5cf49cff1d",
        "_cell_guid": "acdc11f4-7b5c-4aee-8c42-1a752bffbc2e",
        "trusted": false,
        "id": "Vh-K68DjOVrS",
        "colab": {
          "base_uri": "https://localhost:8080/",
          "height": 71
        },
        "outputId": "85b843c7-482b-44c6-f7f5-56b7bdcdc961"
      },
      "source": [
        "vectorizer3 = TfidfVectorizer(stop_words = stop_words, tokenizer = tokenize, max_features = 1000)\n",
        "X3 = vectorizer3.fit_transform(news)\n",
        "words = vectorizer3.get_feature_names()"
      ],
      "execution_count": null,
      "outputs": [
        {
          "output_type": "stream",
          "text": [
            "/usr/local/lib/python3.6/dist-packages/sklearn/feature_extraction/text.py:385: UserWarning: Your stop_words may be inconsistent with your preprocessing. Tokenizing the stop words generated tokens ['abov', 'afterward', 'alon', 'alreadi', 'alway', 'ani', 'anoth', 'anyon', 'anyth', 'anywher', 'becam', 'becaus', 'becom', 'befor', 'besid', 'cri', 'describ', 'dure', 'els', 'elsewher', 'empti', 'everi', 'everyon', 'everyth', 'everywher', 'fifti', 'forti', 'henc', 'hereaft', 'herebi', 'howev', 'hundr', 'inde', 'mani', 'meanwhil', 'moreov', 'nobodi', 'noon', 'noth', 'nowher', 'onc', 'onli', 'otherwis', 'ourselv', 'perhap', 'pleas', 'sever', 'sinc', 'sincer', 'sixti', 'someon', 'someth', 'sometim', 'somewher', 'themselv', 'thenc', 'thereaft', 'therebi', 'therefor', 'togeth', 'twelv', 'twenti', 'veri', 'whatev', 'whenc', 'whenev', 'wherea', 'whereaft', 'wherebi', 'wherev', 'whi', 'yourselv'] not in stop_words.\n",
            "  'stop_words.' % sorted(inconsistent))\n"
          ],
          "name": "stderr"
        }
      ]
    },
    {
      "cell_type": "markdown",
      "metadata": {
        "_uuid": "b5f2e66c25d17527b78ae1a1fe174f1ac6310286",
        "_cell_guid": "e8a8c1ed-8970-49e0-bae5-0e0d85abea84",
        "id": "jXLrrhmDOVrY"
      },
      "source": [
        "For this, we will use k-means clustering algorithm.\n",
        "# K-means clustering\n"
      ]
    },
    {
      "cell_type": "markdown",
      "metadata": {
        "_uuid": "39ba3fa0f53454111495da2f7e7719572afec93a",
        "_cell_guid": "c9a1312e-45f7-44e4-9407-13012bdf97ce",
        "id": "cg56UCqSOVrZ"
      },
      "source": [
        "# Elbow method to select number of clusters\n",
        "\n",
        "Basically, number of clusters = the x-axis value of the point that is the corner of the \"elbow\"(the plot looks often looks like an elbow)"
      ]
    },
    {
      "cell_type": "code",
      "metadata": {
        "_uuid": "992bea80b2647c4f4e564bb020ce8eab07db6b78",
        "scrolled": true,
        "_cell_guid": "c72b26ab-4bef-44e6-b854-5bca3cd1f217",
        "trusted": false,
        "id": "Ui1iyQUbOVrZ",
        "colab": {
          "base_uri": "https://localhost:8080/",
          "height": 295
        },
        "outputId": "e8f72db1-ff99-4c61-e58e-6ec1dd81eb41"
      },
      "source": [
        "wcss = []\n",
        "for i in range(2,12):\n",
        "    kmeans = KMeans(n_clusters=i+2,init='k-means++',max_iter=300,n_init=10,random_state=0)\n",
        "    kmeans.fit(X3)\n",
        "    wcss.append(kmeans.inertia_)\n",
        "plt.plot(range(2,12),wcss,marker='o')\n",
        "plt.title('The Elbow Method')\n",
        "plt.xlabel('Number of clusters')\n",
        "plt.ylabel('WCSS')\n",
        "#plt.savefig('elbow.png')\n",
        "plt.show()"
      ],
      "execution_count": null,
      "outputs": [
        {
          "output_type": "display_data",
          "data": {
            "image/png": "[encoded data removed]",
            "text/plain": [
              "<Figure size 432x288 with 1 Axes>"
            ]
          },
          "metadata": {
            "tags": [],
            "needs_background": "light"
          }
        }
      ]
    },
    {
      "cell_type": "markdown",
      "metadata": {
        "id": "jBFLnqXJAML-"
      },
      "source": [
        "#Ineteria of cosine"
      ]
    },
    {
      "cell_type": "code",
      "metadata": {
        "id": "KBHzau6iG97m",
        "colab": {
          "base_uri": "https://localhost:8080/",
          "height": 295
        },
        "outputId": "1157a191-9124-47ec-c7ad-333c64a58a77"
      },
      "source": [
        "from sklearn import preprocessing\n",
        "normalized_vectors = preprocessing.normalize(X3)\n",
        "scores = [KMeans(n_clusters=i+2).fit(normalized_vectors).inertia_  \n",
        "          for i in range(10)]\n",
        "sns.lineplot(np.arange(2, 12), scores,marker='o')\n",
        "plt.xlabel('Number of clusters')\n",
        "plt.ylabel(\"Inertia\")\n",
        "plt.title(\"Inertia of Cosine k-Means versus number of clusters\")\n",
        "plt.savefig(\"intertia_cosine_kmeans.jpg\", dpi=300)"
      ],
      "execution_count": null,
      "outputs": [
        {
          "output_type": "display_data",
          "data": {
            "image/png": "[encoded data removed]",
            "text/plain": [
              "<Figure size 432x288 with 1 Axes>"
            ]
          },
          "metadata": {
            "tags": [],
            "needs_background": "light"
          }
        }
      ]
    },
    {
      "cell_type": "code",
      "metadata": {
        "id": "Eanb19dl8SoF",
        "colab": {
          "base_uri": "https://localhost:8080/",
          "height": 295
        },
        "outputId": "9d2a7aab-3ff7-42b6-91b4-d7542b566e35"
      },
      "source": [
        "from sklearn import preprocessing\n",
        "normalized_vectors = preprocessing.normalize(X3)\n",
        "scores = [KMeans(n_clusters=i+2).fit(normalized_vectors).inertia_  \n",
        "          for i in range(10)]\n",
        "sns.lineplot(np.arange(2, 12), scores,marker='o')\n",
        "plt.xlabel('Number of clusters')\n",
        "plt.ylabel(\"Inertia\")\n",
        "plt.title(\"Inertia of Cosine k-Means versus number of clusters\")\n",
        "plt.savefig(\"intertia_cosine_kmeans.jpg\", dpi=300)"
      ],
      "execution_count": null,
      "outputs": [
        {
          "output_type": "display_data",
          "data": {
            "image/png": "[encoded data removed]",
            "text/plain": [
              "<Figure size 432x288 with 1 Axes>"
            ]
          },
          "metadata": {
            "tags": [],
            "needs_background": "light"
          }
        }
      ]
    },
    {
      "cell_type": "code",
      "metadata": {
        "id": "Bbd7aKXR784D",
        "colab": {
          "base_uri": "https://localhost:8080/",
          "height": 51
        },
        "outputId": "b0f0edda-bef6-42d6-d19a-a02076df675e"
      },
      "source": [
        "from sklearn.cluster import DBSCAN\n",
        "from sklearn.metrics import silhouette_score\n",
        "# Prepare models\n",
        "kmeans = KMeans(n_clusters=4).fit(X3)\n",
        "normalized_vectors = preprocessing.normalize(X3)\n",
        "normalized_kmeans = KMeans(n_clusters=4).fit(normalized_vectors)\n",
        "min_samples = X3.shape[1]+1 \n",
        "dbscan = DBSCAN(eps=4.5, min_samples=min_samples).fit(X3)\n",
        "# Print results\n",
        "print('kmeans: {}'.format(silhouette_score(X3, kmeans.labels_, \n",
        "                                           metric='euclidean')))\n",
        "print('Cosine kmeans:{}'.format(silhouette_score(normalized_vectors,\n",
        "                                          normalized_kmeans.labels_,\n",
        "                                          metric='cosine')))\n",
        "#print('DBSCAN: {}'.format(silhouette_score(X3, dbscan.labels_, \n",
        "                                           #metric='cosine')))"
      ],
      "execution_count": null,
      "outputs": [
        {
          "output_type": "stream",
          "text": [
            "kmeans: 0.003864479974264795\n",
            "Cosine kmeans:0.00991630492875014\n"
          ],
          "name": "stdout"
        }
      ]
    },
    {
      "cell_type": "markdown",
      "metadata": {
        "_uuid": "6992f369b10d54adf27ecdcf24c6f57deabf466f",
        "_cell_guid": "a3c414e5-70b2-4c63-a46a-f9c82e406e4b",
        "id": "opoZhlGtOVrm"
      },
      "source": [
        "# 3 Clusters"
      ]
    },
    {
      "cell_type": "code",
      "metadata": {
        "id": "N1JkUWDPykJw",
        "colab": {
          "base_uri": "https://localhost:8080/",
          "height": 88
        },
        "outputId": "0c7cffe4-301d-41ed-cc34-78e4ee249e35"
      },
      "source": [
        "kmeans = KMeans(n_clusters = 3, n_init = 20, n_jobs = 1)\n",
        "kmeans.fit(X3)\n",
        "# We look at 5 the clusters generated by k-means.\n",
        "common_words = kmeans.cluster_centers_.argsort()[:,-1:-26:-1]\n",
        "for num, centroid in enumerate(common_words):\n",
        "    print(str(num) + ' : ' + ', '.join(words[word] for word in centroid))"
      ],
      "execution_count": null,
      "outputs": [
        {
          "output_type": "stream",
          "text": [
            "0 : plan, nsw, claim, fund, man, iraq, korean, urg, govt, court, subway, death, ethanol, public, help, continu, defend, water, strike, new, warn, murder, crash, miss, meet\n",
            "1 : council, welcom, insur, secur, decis, chief, breakthrough, appoint, general, step, address, administr, land, manag, vandal, reward, heritag, garden, introduc, levi, ambul, fed, advertis, lament, offer\n",
            "2 : record, break, barca, profit, ventur, gladston, rare, harrington, away, delight, antic, robson, net, result, amcor, freedom, solid, success, philippoussi, thriller, tie, dent, month, drought, celebr\n"
          ],
          "name": "stdout"
        }
      ]
    },
    {
      "cell_type": "markdown",
      "metadata": {
        "_uuid": "4750051c6cbdc6d262f31a94f5c4776eb020644a",
        "_cell_guid": "05f80701-83af-49c1-a7b8-df8c20396bb9",
        "id": "YFxmLIV0OVrt"
      },
      "source": [
        "# 5 Clusters"
      ]
    },
    {
      "cell_type": "code",
      "metadata": {
        "_uuid": "2813cee7e61b966b179b806d29b222c55551ee35",
        "scrolled": false,
        "_cell_guid": "137b7e2c-970f-4f2f-929e-c7b2bd2a8004",
        "trusted": false,
        "id": "AxPPPZzHOVru",
        "colab": {
          "base_uri": "https://localhost:8080/",
          "height": 122
        },
        "outputId": "98ad6cd7-a6e2-41d3-c782-36e3c0d439be"
      },
      "source": [
        "kmeans = KMeans(n_clusters = 5, n_init = 20, n_jobs = 1)\n",
        "kmeans.fit(X3)\n",
        "# We look at 5 the clusters generated by k-means.\n",
        "common_words = kmeans.cluster_centers_.argsort()[:,-1:-26:-1]\n",
        "for num, centroid in enumerate(common_words):\n",
        "    print(str(num) + ' : ' + ', '.join(words[word] for word in centroid))"
      ],
      "execution_count": null,
      "outputs": [
        {
          "output_type": "stream",
          "text": [
            "0 : man, plan, iraq, claim, fund, nsw, record, urg, defend, warn, crash, meet, break, drink, trial, injur, chang, educ, public, help, ethanol, report, raid, pay, strike\n",
            "1 : council, welcom, manag, secur, decis, chief, breakthrough, appoint, step, general, address, insur, vote, irrig, land, administr, vandal, reward, heritag, garden, river, ambul, levi, advertis, lament\n",
            "2 : korean, subway, miss, toll, south, death, continu, cemeteri, fisherman, sign, fund, investig, underway, passeng, die, question, grow, search, nth, japanes, seek, climb, anger, victim, asylum\n",
            "3 : govt, nt, nurs, boost, intak, crean, seat, lose, nsw, student, veget, ord, resourc, hold, blame, unpopular, arrog, display, stock, paroo, suppli, soldier, direct, defenc, prioriti\n",
            "4 : court, win, defam, case, face, verdict, murder, wit, awar, refshaug, ayr, pair, teen, sept, german, juri, act, ambiti, olsson, jump, tripl, drug, charg, consid, compo\n"
          ],
          "name": "stdout"
        }
      ]
    },
    {
      "cell_type": "markdown",
      "metadata": {
        "_uuid": "4faeeea430f9f679a594b2c7f1ef1c857611ade5",
        "_cell_guid": "e5ab0cdc-1178-486d-a982-3457aa69d234",
        "id": "zMhsl7LfOVr1"
      },
      "source": [
        "# 6 Clusters"
      ]
    },
    {
      "cell_type": "code",
      "metadata": {
        "_uuid": "73c1c5bfafe12fd9bd57ab0c3bd07f60630f05a8",
        "_cell_guid": "de4d9fbb-2462-4491-899f-b1e28e1a7697",
        "trusted": false,
        "id": "L1p1flROOVr2",
        "colab": {
          "base_uri": "https://localhost:8080/",
          "height": 139
        },
        "outputId": "305f81a4-ddf0-4ec5-836b-d7e84f479ca7"
      },
      "source": [
        "kmeans = KMeans(n_clusters = 6, n_init = 20, n_jobs = 1)\n",
        "kmeans.fit(X3)\n",
        "# We look at 6 the clusters generated by k-means.\n",
        "common_words = kmeans.cluster_centers_.argsort()[:,-1:-26:-1]\n",
        "for num, centroid in enumerate(common_words):\n",
        "    print(str(num) + ' : ' + ', '.join(words[word] for word in centroid))"
      ],
      "execution_count": null,
      "outputs": [
        {
          "output_type": "stream",
          "text": [
            "0 : nsw, claim, plan, iraq, govt, fund, record, ethanol, opp, water, court, new, break, drink, urg, educ, high, report, pay, british, defend, aust, win, work, nt\n",
            "1 : korean, subway, help, phone, toll, south, public, fund, death, urg, continu, miss, scam, restor, cossack, homeless, warn, underway, investig, youth, communiti, passeng, die, ambo, wake\n",
            "2 : crash, injur, head, highway, plane, launch, girl, sparki, probe, ankl, ricciuto, undergo, surgeri, brisban, day, weather, iranian, open, rio, pull, bueno, strike, caus, bad, air\n",
            "3 : murder, trial, cooma, snowtown, delay, rabbit, control, charg, program, pair, ayr, juri, canola, gm, face, consid, verdict, case, regul, inspect, stand, qaeda, al, arabian, man\n",
            "4 : council, welcom, decis, chief, job, secur, breakthrough, appoint, step, general, address, insur, wine, bounc, administr, land, manag, attend, reward, vandal, heritag, garden, sack, levi, ambul\n",
            "5 : man, hijack, arrest, accident, inquest, keno, fraud, jail, knife, irish, omagh, fine, light, death, bomb, plane, central, attempt, qld, aborigin, tent, juve, u, deplet, raid\n"
          ],
          "name": "stdout"
        }
      ]
    },
    {
      "cell_type": "markdown",
      "metadata": {
        "_uuid": "7225da580975f8589615a8fd5232ba3c80780845",
        "_cell_guid": "bff92434-ec9d-4e6b-a4a2-72ec4ea6f3bc",
        "id": "PeYFatZCOVr8"
      },
      "source": [
        "# 8 Clusters"
      ]
    },
    {
      "cell_type": "code",
      "metadata": {
        "id": "M9zVXa6ZBBCj",
        "colab": {
          "base_uri": "https://localhost:8080/",
          "height": 173
        },
        "outputId": "e633cec6-3242-4d68-962c-0572e17c2645"
      },
      "source": [
        "kmeans = KMeans(n_clusters = 8, n_init = 20, n_jobs = 1)\n",
        "kmeans.fit(X3)\n",
        "# We look at 6 the clusters generated by k-means.\n",
        "common_words = kmeans.cluster_centers_.argsort()[:,-1:-26:-1]\n",
        "for num, centroid in enumerate(common_words):\n",
        "    print(str(num) + ' : ' + ', '.join(words[word] for word in centroid))"
      ],
      "execution_count": null,
      "outputs": [
        {
          "output_type": "stream",
          "text": [
            "0 : nsw, urg, iraq, govt, court, ethanol, public, continu, korean, warn, crash, meet, trial, record, hold, death, report, british, water, win, subway, tell, becom, summit, phone\n",
            "1 : claim, reject, indigen, polici, caus, educ, high, monopoli, dixon, ambul, levi, autopsi, consent, dismiss, defenc, spend, prioriti, mp, campaign, run, author, spurn, rfs, qanta, code\n",
            "2 : strike, pay, aust, air, rise, nz, dargo, threat, rebuild, white, crew, intern, sparki, studi, economi, recoveri, slow, expect, hous, day, brisban, alcohol, smoke, demand, travel\n",
            "3 : man, embassi, raid, aborigin, tent, hijack, arrest, bomb, defend, cooma, inquest, accident, fraud, keno, jail, charg, knife, omagh, irish, murder, fine, nca, light, death, seek\n",
            "4 : fund, miss, alloc, help, cemeteri, cadel, upgrad, sign, fisherman, subway, cossack, restor, risk, bridg, announc, korean, youth, violenc, domest, work, wake, ambo, victim, aid, chang\n",
            "5 : council, welcom, insur, secur, decis, chief, breakthrough, appoint, general, step, address, administr, land, manag, vandal, reward, heritag, garden, introduc, levi, ambul, fed, advertis, lament, offer\n",
            "6 : plan, reveal, skatepark, bathhous, second, ahead, sugar, sanctuari, industri, wildlif, qr, rout, plantat, encourag, timber, farmer, suppli, paroo, northern, sack, outrag, big, boost, union, job\n",
            "7 : break, rare, harrington, away, antic, delight, thriller, dent, philippoussi, tie, month, drought, barca, rain, record, featur, ei, encourag, financ, emerg, embassi, elster, fine, elimin, effect\n"
          ],
          "name": "stdout"
        }
      ]
    },
    {
      "cell_type": "markdown",
      "metadata": {
        "id": "61B1jOeEn4Ep"
      },
      "source": [
        "##Visualizing document clusters"
      ]
    },
    {
      "cell_type": "code",
      "metadata": {
        "id": "3cP5LZsSgQ76"
      },
      "source": [
        "X3 = lil_matrix(X3).toarray()\n"
      ],
      "execution_count": null,
      "outputs": []
    },
    {
      "cell_type": "code",
      "metadata": {
        "id": "Y3OCX0k9kqOV",
        "colab": {
          "base_uri": "https://localhost:8080/",
          "height": 265
        },
        "outputId": "eee7103a-0768-494a-b542-0a03100aba07"
      },
      "source": [
        "plt.scatter(X3[:,8], X3[:,9], s=100);"
      ],
      "execution_count": null,
      "outputs": [
        {
          "output_type": "display_data",
          "data": {
            "image/png": "[encoded data removed]",
            "text/plain": [
              "<Figure size 432x288 with 1 Axes>"
            ]
          },
          "metadata": {
            "tags": [],
            "needs_background": "light"
          }
        }
      ]
    },
    {
      "cell_type": "code",
      "metadata": {
        "id": "CbSIB5EhZ2L3"
      },
      "source": [
        "kmeans = KMeans(n_clusters=8)\n",
        "kmeans.fit(X3)\n",
        "y_km = kmeans.predict(X3)"
      ],
      "execution_count": null,
      "outputs": []
    },
    {
      "cell_type": "code",
      "metadata": {
        "id": "QhEOS5OyaC0b",
        "colab": {
          "base_uri": "https://localhost:8080/",
          "height": 265
        },
        "outputId": "5ceca4d5-f387-4833-8339-5c83a8582c6f"
      },
      "source": [
        "plt.scatter(X3[:, 8], X3[:, 9], c=y_km, s=50, cmap='viridis')\n",
        "centers = kmeans.cluster_centers_\n",
        "plt.scatter(centers[:, 8], centers[:, 9], c='black', s=200, alpha=0.5);"
      ],
      "execution_count": null,
      "outputs": [
        {
          "output_type": "display_data",
          "data": {
            "image/png": "[encoded data removed]",
            "text/plain": [
              "<Figure size 432x288 with 1 Axes>"
            ]
          },
          "metadata": {
            "tags": [],
            "needs_background": "light"
          }
        }
      ]
    },
    {
      "cell_type": "code",
      "metadata": {
        "id": "qzxLHai5zfe3",
        "colab": {
          "base_uri": "https://localhost:8080/",
          "height": 265
        },
        "outputId": "a0088c67-e97f-4ee1-812a-296551c6cd59"
      },
      "source": [
        "# plot the 3 clusters\n",
        "plt.scatter(\n",
        "    X3[y_km == 0, 0], X3[y_km == 0, 1],\n",
        "    s=50, c='lightgreen',\n",
        "    marker= 's', edgecolor='black',\n",
        "    label= 'cluster 3'\n",
        ")\n",
        "\n",
        "plt.scatter(\n",
        "    X3[y_km == 1, 0], X3[y_km == 1, 1],\n",
        "    s=50, c='orange',\n",
        "    marker='o', edgecolor='black',\n",
        "    label='cluster 5'\n",
        ")\n",
        "\n",
        "plt.scatter(\n",
        "    X3[y_km == 2, 0], X3[y_km == 2, 1],\n",
        "    s=50, c='lightblue',\n",
        "    marker='v', edgecolor='black',\n",
        "    label='cluster 6'\n",
        ")\n",
        "\n",
        "# plot the centroids\n",
        "plt.scatter(\n",
        "    kmeans.cluster_centers_[:, 8], kmeans.cluster_centers_[:, 9],\n",
        "    s=200, marker='*',\n",
        "    c='red', edgecolor='black',\n",
        "    label='centroids'\n",
        ")\n",
        "plt.legend(scatterpoints=1)\n",
        "plt.grid()\n",
        "plt.show()"
      ],
      "execution_count": null,
      "outputs": [
        {
          "output_type": "display_data",
          "data": {
            "image/png": "[encoded data removed]",
            "text/plain": [
              "<Figure size 432x288 with 1 Axes>"
            ]
          },
          "metadata": {
            "tags": [],
            "needs_background": "light"
          }
        }
      ]
    },
    {
      "cell_type": "code",
      "metadata": {
        "_uuid": "0ed982322b3a0fecb997e88ef0fb2f681c5a801c",
        "scrolled": false,
        "_cell_guid": "e096b262-a06c-4f0a-9c50-2ef4bda9b926",
        "trusted": false,
        "id": "62bOzbjmOVrg",
        "colab": {
          "base_uri": "https://localhost:8080/",
          "height": 54
        },
        "outputId": "9b71fb3e-c77d-4bb3-9361-f4361ba2bfdd"
      },
      "source": [
        "print(words[250:300])"
      ],
      "execution_count": null,
      "outputs": [
        {
          "output_type": "stream",
          "text": [
            "['disput', 'distanc', 'divis', 'dixon', 'doctor', 'dog', 'domest', 'donat', 'doubl', 'doubtconflict', 'downer', 'dream', 'drink', 'driver', 'drought', 'drug', 'dubai', 'earn', 'eas', 'east', 'economi', 'educ', 'effect', 'ei', 'elimin', 'elster', 'embassi', 'emerg', 'encourag', 'end', 'england', 'entomb', 'entri', 'epa', 'ethanol', 'execut', 'expect', 'experi', 'express', 'face', 'fail', 'fan', 'farmer', 'fate', 'favourit', 'fear', 'featur', 'fed', 'feder', 'feed']\n"
          ],
          "name": "stdout"
        }
      ]
    },
    {
      "cell_type": "code",
      "metadata": {
        "id": "tblNMC3io9p4",
        "colab": {
          "base_uri": "https://localhost:8080/",
          "height": 265
        },
        "outputId": "0d871217-86db-4f45-c0f6-5f85d2e67ec8"
      },
      "source": [
        "from sklearn.metrics import pairwise_distances_argmin\n",
        "\n",
        "def find_clusters(X3, n_clusters, rseed=2):\n",
        "    # 1. Randomly choose clusters\n",
        "    rng = np.random.RandomState(rseed)\n",
        "    i = rng.permutation(X.shape[0])[:n_clusters]\n",
        "    centers = X3[i]\n",
        "    \n",
        "    while True:\n",
        "        # 2a. Assign labels based on closest center\n",
        "        labels = pairwise_distances_argmin(X3, centers)\n",
        "        \n",
        "        # 2b. Find new centers from means of points\n",
        "        new_centers = np.array([X3[labels == i].mean(0)\n",
        "                                for i in range(n_clusters)])\n",
        "        \n",
        "        # 2c. Check for convergence\n",
        "        if np.all(centers == new_centers):\n",
        "            break\n",
        "        centers = new_centers\n",
        "    \n",
        "    return centers, labels\n",
        "\n",
        "centers, labels = find_clusters(X3, 4)\n",
        "plt.scatter(X3[:, 8], X3[:, 9], c=labels,\n",
        "            s=50, cmap='viridis');\n"
      ],
      "execution_count": null,
      "outputs": [
        {
          "output_type": "display_data",
          "data": {
            "image/png": "[encoded data removed]",
            "text/plain": [
              "<Figure size 432x288 with 1 Axes>"
            ]
          },
          "metadata": {
            "tags": [],
            "needs_background": "light"
          }
        }
      ]
    },
    {
      "cell_type": "code",
      "metadata": {
        "id": "BtZAT_SLphFD",
        "colab": {
          "base_uri": "https://localhost:8080/",
          "height": 265
        },
        "outputId": "9624e0bf-179f-45da-f25d-be8938fabcf8"
      },
      "source": [
        "centers, labels = find_clusters(X3, 4, rseed=0)\n",
        "plt.scatter(X3[:, 8], X3[:, 9], c=labels,\n",
        "            s=50, cmap='viridis');"
      ],
      "execution_count": null,
      "outputs": [
        {
          "output_type": "display_data",
          "data": {
            "image/png": "[encoded data removed]",
            "text/plain": [
              "<Figure size 432x288 with 1 Axes>"
            ]
          },
          "metadata": {
            "tags": [],
            "needs_background": "light"
          }
        }
      ]
    },
    {
      "cell_type": "code",
      "metadata": {
        "id": "uyTdrjUppw9r",
        "colab": {
          "base_uri": "https://localhost:8080/",
          "height": 265
        },
        "outputId": "711f51ac-8e0e-469c-992a-ff99b2fd0856"
      },
      "source": [
        "labels = KMeans(6, random_state=0).fit_predict(X3)\n",
        "plt.scatter(X3[:, 0], X3[:, 1], c=labels,\n",
        "            s=50, cmap='viridis');\n"
      ],
      "execution_count": null,
      "outputs": [
        {
          "output_type": "display_data",
          "data": {
            "image/png": "[encoded data removed]",
            "text/plain": [
              "<Figure size 432x288 with 1 Axes>"
            ]
          },
          "metadata": {
            "tags": [],
            "needs_background": "light"
          }
        }
      ]
    }
  ]
}